{
  "nbformat": 4,
  "nbformat_minor": 0,
  "metadata": {
    "colab": {
      "provenance": [],
      "authorship_tag": "ABX9TyO9Kms4YeOrXk3x9Z4ZLYF4",
      "include_colab_link": true
    },
    "kernelspec": {
      "name": "python3",
      "display_name": "Python 3"
    },
    "language_info": {
      "name": "python"
    }
  },
  "cells": [
    {
      "cell_type": "markdown",
      "metadata": {
        "id": "view-in-github",
        "colab_type": "text"
      },
      "source": [
        "<a href=\"https://colab.research.google.com/github/aryansonu2003/EE-Projects-/blob/main/Projects_Ultrasonic_glasses_for_blind.ipynb\" target=\"_parent\"><img src=\"https://colab.research.google.com/assets/colab-badge.svg\" alt=\"Open In Colab\"/></a>"
      ]
    },
    {
      "cell_type": "markdown",
      "source": [
        "**ULTRA SONIC GLASSES FOR THE BLIND**"
      ],
      "metadata": {
        "id": "KxccVt0k-VEp"
      }
    },
    {
      "cell_type": "code",
      "source": [
        "%%writefile health_monitor.ino\n",
        "const int trig = 13;      // Trigger pin of ultrasonic sensor (D13 on Arduino Uno)\n",
        "const int echo = 12;      // Echo pin of ultrasonic sensor (D12 on Arduino Uno)\n",
        "const int vibrationMotorPin = A1; // Pin to connect the vibration motor (changed to A1)\n",
        "\n",
        "long time_taken;\n",
        "int dist, distance;\n",
        "\n",
        "void setup()\n",
        "{\n",
        "  Serial.begin(9600);\n",
        "  pinMode(trig, OUTPUT);\n",
        "  pinMode(echo, INPUT);\n",
        "  pinMode(vibrationMotorPin, OUTPUT); // Set the vibration motor pin as output\n",
        "}\n",
        "\n",
        "void calculate_distance(int trigger, int echo)\n",
        "{\n",
        "  digitalWrite(trigger, LOW);\n",
        "  delayMicroseconds(2);\n",
        "  digitalWrite(trigger, HIGH);\n",
        "  delayMicroseconds(10);\n",
        "  digitalWrite(trigger, LOW);\n",
        "\n",
        "  time_taken = pulseIn(echo, HIGH);\n",
        "  dist = time_taken * 0.034 / 2;\n",
        "}\n",
        "\n",
        "void vibrateMotor(int duration)\n",
        "{\n",
        "  analogWrite(vibrationMotorPin, 255); // Turn on vibration motor at full speed\n",
        "  delay(duration);\n",
        "  analogWrite(vibrationMotorPin, 0);   // Turn off vibration motor\n",
        "}\n",
        "\n",
        "void loop()\n",
        "{\n",
        "  calculate_distance(trig, echo);\n",
        "  distance = dist;\n",
        "\n",
        "  Serial.println(distance);\n",
        "\n",
        "   //Vibrate the motor only when an object is detected within 100cm\n",
        "  if (distance < 100)\n",
        "  {\n",
        "    vibrateMotor(200); // Vibrate for a short duration for objects within 100cm\n",
        "  }\n",
        "  else\n",
        "  {\n",
        "    vibrateMotor(0);   // Turn off vibration motor for objects beyond 100cm\n",
        "  }\n",
        "\n",
        "  delay(1000);\n",
        "}"
      ],
      "metadata": {
        "colab": {
          "base_uri": "https://localhost:8080/"
        },
        "id": "bnDW-SqU99gg",
        "outputId": "e8681f24-1357-4d3c-94b0-ee095b5f1183"
      },
      "execution_count": 6,
      "outputs": [
        {
          "output_type": "stream",
          "name": "stdout",
          "text": [
            "Overwriting health_monitor.ino\n"
          ]
        }
      ]
    }
  ]
}
